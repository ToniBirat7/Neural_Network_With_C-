{
 "cells": [
  {
   "cell_type": "markdown",
   "id": "bd15eedf",
   "metadata": {},
   "source": [
    "## **Resources**\n",
    "\n",
    "### **Training Neural Network with C++**\n",
    "\n",
    "[Linkedin_Learning](https://www.linkedin.com/learning/training-neural-networks-in-c-plus-plus-22661958/the-many-applications-of-machine-learning?autoSkip=true&resume=false&u=42288921)\n",
    "\n",
    "### **Understanding Neural Network in Depth**\n",
    "\n",
    "[Essential_Idea_Of_Neural_Network](https://www.youtube.com/watch?v=CqOfi41LfDw)\n",
    "\n",
    "[How_CNN_Works_in_Depth](https://www.youtube.com/watch?v=JB8T_zN7ZC0)\n",
    "\n",
    "### **The Mathematics Behind Neural Network**\n",
    "\n",
    "[Maths_Behind_Neural_Network](https://www.youtube.com/watch?v=Ixl3nykKG9M)\n"
   ]
  }
 ],
 "metadata": {
  "language_info": {
   "name": "python"
  }
 },
 "nbformat": 4,
 "nbformat_minor": 5
}
