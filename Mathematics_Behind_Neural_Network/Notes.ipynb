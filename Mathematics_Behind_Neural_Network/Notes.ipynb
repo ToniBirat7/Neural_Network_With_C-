{
 "cells": [
  {
   "cell_type": "markdown",
   "id": "dd346528",
   "metadata": {},
   "source": [
    "## **Resources**\n",
    "\n",
    "### **Complete Mathematics of Neural Network**\n",
    "\n",
    "[Adam_Dhalla_Best](https://www.youtube.com/watch?v=Ixl3nykKG9M&t=2s)\n"
   ]
  },
  {
   "cell_type": "markdown",
   "id": "837d59cf",
   "metadata": {},
   "source": [
    "# **Complete Mathematics of Neural Network**\n",
    "\n",
    "**course Syllabus**\n",
    "\n",
    "<img src='./Notes_Images/syllabus.png'>\n",
    "\n",
    "<hr>\n"
   ]
  }
 ],
 "metadata": {
  "language_info": {
   "name": "python"
  }
 },
 "nbformat": 4,
 "nbformat_minor": 5
}
